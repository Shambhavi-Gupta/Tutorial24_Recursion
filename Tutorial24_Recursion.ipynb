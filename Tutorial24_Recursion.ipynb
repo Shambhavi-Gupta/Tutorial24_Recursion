{
  "nbformat": 4,
  "nbformat_minor": 0,
  "metadata": {
    "colab": {
      "name": "Tutorial24_Recursion.ipynb",
      "provenance": [],
      "authorship_tag": "ABX9TyN9EuN2rVI76jQ2O8JRXsTf",
      "include_colab_link": true
    },
    "kernelspec": {
      "name": "python3",
      "display_name": "Python 3"
    }
  },
  "cells": [
    {
      "cell_type": "markdown",
      "metadata": {
        "id": "view-in-github",
        "colab_type": "text"
      },
      "source": [
        "<a href=\"https://colab.research.google.com/github/Shambhavi-Gupta/Tutorial24_Recursion/blob/main/Tutorial24_Recursion.ipynb\" target=\"_parent\"><img src=\"https://colab.research.google.com/assets/colab-badge.svg\" alt=\"Open In Colab\"/></a>"
      ]
    },
    {
      "cell_type": "code",
      "metadata": {
        "id": "SeikcgkWdPC3"
      },
      "source": [
        "#Recursion is use of function inside a function\r\n",
        "\r\n",
        "def factorial_iterative(n):\r\n",
        "    fac = 1\r\n",
        "    for i in range(n):\r\n",
        "        fac = fac * (i+1)\r\n",
        "    return (fac)\r\n",
        "\r\n",
        "number = int(input(\"Enter a number : \"))\r\n",
        "print(\"factorial iterative output : \", factorial_iterative(number))\r\n",
        "\r\n",
        "def factorial_recursive(n):\r\n",
        "    if n==1:\r\n",
        "        return 1\r\n",
        "    else:\r\n",
        "        return n * factorial_recursive(n-1)\r\n",
        "\r\n",
        "number = int(input(\"Enter a number : \"))\r\n",
        "print(\"factorial recursive output : \", factorial_recursive(number))"
      ],
      "execution_count": null,
      "outputs": []
    }
  ]
}